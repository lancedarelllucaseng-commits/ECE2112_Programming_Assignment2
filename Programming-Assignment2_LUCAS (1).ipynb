{
 "cells": [
  {
   "cell_type": "code",
   "execution_count": 1,
   "id": "f6819e78-2007-473b-8f1e-f17906c1e070",
   "metadata": {},
   "outputs": [],
   "source": [
    "import numpy as np"
   ]
  },
  {
   "cell_type": "code",
   "execution_count": 9,
   "id": "ce09ddf8-e481-48e8-aada-d025a620d542",
   "metadata": {},
   "outputs": [
    {
     "data": {
      "text/plain": [
       "array([[0.34552322, 0.73309457, 0.07701961, 0.36533864, 0.64780238],\n",
       "       [0.06650283, 0.53218399, 0.08156557, 0.32455791, 0.78668869],\n",
       "       [0.45240138, 0.76976762, 0.27934448, 0.22263118, 0.87003168],\n",
       "       [0.14593199, 0.52342238, 0.70914959, 0.51532793, 0.03156278],\n",
       "       [0.78004448, 0.89537084, 0.31903631, 0.44489857, 0.94265406]])"
      ]
     },
     "execution_count": 9,
     "metadata": {},
     "output_type": "execute_result"
    }
   ],
   "source": [
    "#Normalization Problem\n",
    "# Create a random 5x5 ndarray\n",
    "X = np.random.rand(5, 5)\n",
    "X"
   ]
  },
  {
   "cell_type": "code",
   "execution_count": 8,
   "id": "997c65f7-1b86-442a-b6e7-76ff7bc96bd3",
   "metadata": {},
   "outputs": [
    {
     "data": {
      "text/plain": [
       "array([[-1.48272693,  0.79453791, -1.62520832,  0.49273947,  0.56611099],\n",
       "       [-1.30973754,  0.01810512, -0.46262627, -1.58394136,  1.2499532 ],\n",
       "       [-0.78797639,  0.94008929,  1.2997034 ,  0.10742396,  0.80964266],\n",
       "       [ 0.65888834,  1.35677546, -0.22445027,  0.38281048, -1.24072045],\n",
       "       [ 0.64274694, -1.55596891,  1.42953763, -0.0125758 , -0.46313261]])"
      ]
     },
     "execution_count": 8,
     "metadata": {},
     "output_type": "execute_result"
    }
   ],
   "source": [
    "# Normalize X\n",
    "X_normalized = (X - X.mean()) / X.std()\n",
    "X_normalized"
   ]
  },
  {
   "cell_type": "code",
   "execution_count": 5,
   "id": "c5ce1496-d245-4aed-96c6-ff28cb3a7e16",
   "metadata": {},
   "outputs": [],
   "source": [
    "# Save normalized array\n",
    "np.save('X_normalized.npy', X_normalized)"
   ]
  },
  {
   "cell_type": "code",
   "execution_count": 7,
   "id": "c9f6d0bc-fcd0-47e8-ad77-241ca7b6a54b",
   "metadata": {},
   "outputs": [
    {
     "data": {
      "text/plain": [
       "array([[    1,     4,     9,    16,    25,    36,    49,    64,    81,\n",
       "          100],\n",
       "       [  121,   144,   169,   196,   225,   256,   289,   324,   361,\n",
       "          400],\n",
       "       [  441,   484,   529,   576,   625,   676,   729,   784,   841,\n",
       "          900],\n",
       "       [  961,  1024,  1089,  1156,  1225,  1296,  1369,  1444,  1521,\n",
       "         1600],\n",
       "       [ 1681,  1764,  1849,  1936,  2025,  2116,  2209,  2304,  2401,\n",
       "         2500],\n",
       "       [ 2601,  2704,  2809,  2916,  3025,  3136,  3249,  3364,  3481,\n",
       "         3600],\n",
       "       [ 3721,  3844,  3969,  4096,  4225,  4356,  4489,  4624,  4761,\n",
       "         4900],\n",
       "       [ 5041,  5184,  5329,  5476,  5625,  5776,  5929,  6084,  6241,\n",
       "         6400],\n",
       "       [ 6561,  6724,  6889,  7056,  7225,  7396,  7569,  7744,  7921,\n",
       "         8100],\n",
       "       [ 8281,  8464,  8649,  8836,  9025,  9216,  9409,  9604,  9801,\n",
       "        10000]])"
      ]
     },
     "execution_count": 7,
     "metadata": {},
     "output_type": "execute_result"
    }
   ],
   "source": [
    "#DIVISIBLE BY 3 PROBLEM:\n",
    "# Create ndarray of squares of first 100 positive integers\n",
    "A = np.arange(1, 101) ** 2\n",
    "A = A.reshape(10, 10)\n",
    "A"
   ]
  },
  {
   "cell_type": "code",
   "execution_count": 12,
   "id": "4036a66e-7098-4565-95b2-61c26258ad42",
   "metadata": {},
   "outputs": [
    {
     "data": {
      "text/plain": [
       "array([   9,   36,   81,  144,  225,  324,  441,  576,  729,  900, 1089,\n",
       "       1296, 1521, 1764, 2025, 2304, 2601, 2916, 3249, 3600, 3969, 4356,\n",
       "       4761, 5184, 5625, 6084, 6561, 7056, 7569, 8100, 8649, 9216, 9801])"
      ]
     },
     "execution_count": 12,
     "metadata": {},
     "output_type": "execute_result"
    }
   ],
   "source": [
    "# Elements divisible by 3\n",
    "div_by_3 = A[A % 3 == 0]\n",
    "div_by_3"
   ]
  },
  {
   "cell_type": "code",
   "execution_count": 13,
   "id": "ed00376c-cd94-4879-9627-5d62a2117cbf",
   "metadata": {},
   "outputs": [],
   "source": [
    "# Save the file\n",
    "np.save('div_by_3.npy', div_by_3)"
   ]
  },
  {
   "cell_type": "code",
   "execution_count": null,
   "id": "48db1793-eb48-43f8-bc94-1c1d98eee304",
   "metadata": {},
   "outputs": [],
   "source": []
  }
 ],
 "metadata": {
  "kernelspec": {
   "display_name": "Python [conda env:base] *",
   "language": "python",
   "name": "conda-base-py"
  },
  "language_info": {
   "codemirror_mode": {
    "name": "ipython",
    "version": 3
   },
   "file_extension": ".py",
   "mimetype": "text/x-python",
   "name": "python",
   "nbconvert_exporter": "python",
   "pygments_lexer": "ipython3",
   "version": "3.13.5"
  }
 },
 "nbformat": 4,
 "nbformat_minor": 5
}
